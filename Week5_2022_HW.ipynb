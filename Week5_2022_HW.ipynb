{
 "cells": [
  {
   "cell_type": "markdown",
   "metadata": {},
   "source": [
    "<center><font size = \"10\"> Week 5 - Single Cell Electrophysiology <center>\n",
    "<center><font size = \"8\">Home work<center>"
   ]
  },
  {
   "cell_type": "markdown",
   "metadata": {},
   "source": [
    "<font size = \"3\">Please, write your group number and the names and surnames of the group members here\n",
    "<br>Group number: 5\n",
    "<br>Group member1: Camil Hamdane\n",
    "<br>Group member2: Martim Simões\n",
    "<br>Group member3: Nathan Girard\n",
    "    \n",
    "__IMPORTANT:__<font size = \"3\"> Exercises in <font color='red'>red</font> are mandatory assignements to be delivered by next Monday before 23:59."
   ]
  },
  {
   "cell_type": "markdown",
   "metadata": {},
   "source": [
    "# Optional. Stimulation protocols to study various cell properties\n",
    "\n",
    "<font size='3'>\n",
    "Your task is to design and perform two different stimulation protocols that could be used to study the AP properties (e.g. amplitude, shape, rise-time, fall-time) and passive properties (e.g. input resistance and voltage base) of the cells you have in your group folder (.asc files). When defining the cells, for the passive properties use the parameters from tutorial 01 and for the active parameters use the MOD files used in tutorial 01. Don't include any biophysics on the cell axon.\n",
    "\n",
    "<font size='3'>Run the protocols (saving the results to a csv file - you will need those for question 3), and plot soma voltages and the current applied. Explain the motivation behind your choice of protocols - why do you think these types of protocols are usefull when studying cell behavior?\n",
    "    "
   ]
  },
  {
   "cell_type": "code",
   "execution_count": 3,
   "metadata": {},
   "outputs": [
    {
     "name": "stdout",
     "output_type": "stream",
     "text": [
      "/usr/bin/xcrun\n",
      "/Users/nathangirard/Desktop/In Silico Neuroscience/tutorials/Week05_Code/Homework_week5\n",
      "ls: *.mod: No such file or directory\n"
     ]
    }
   ],
   "source": [
    "# This will compile the mechanisms inside the MOD files (and create a new folder x86_64/special).\n",
    "! nrnivmodl"
   ]
  },
  {
   "cell_type": "code",
   "execution_count": 2,
   "metadata": {},
   "outputs": [
    {
     "name": "stderr",
     "output_type": "stream",
     "text": [
      "Warning: no DISPLAY environment variable.\n",
      "--No graphics will be displayed.\n"
     ]
    }
   ],
   "source": [
    "from neuron import h\n",
    "import hoc\n",
    "import matplotlib.pyplot as plt\n",
    "import numpy as np\n",
    "import math as m\n",
    "import neurom as nm"
   ]
  },
  {
   "cell_type": "code",
   "execution_count": null,
   "metadata": {},
   "outputs": [],
   "source": [
    "# Define NEURON class with specific morphology and channel behavior\n",
    "\n",
    "class NEURON:\n",
    "    def __init__(self, file_path):\n",
    "        self.build_morphology(file_path)\n",
    "        self.define_biophysics()\n",
    "        \n",
    "    def build_morphology(self, file_path):\n",
    "        \"\"\"\n",
    "        Loads a 3D morphology of the neuron\n",
    "        \"\"\"\n",
    "        # Load hoc routines to import 3D morphologies\n",
    "        h.load_file('stdlib.hoc')\n",
    "        h.load_file(\"import3d.hoc\")\n",
    "        #cell = h.Import3d_SWC_read() # We have a .swc morphology file\n",
    "        cell = h.Import3d_Neurolucida3()\n",
    "\n",
    "        # Read the file and creates automatically section.connect(parent) statements\n",
    "        cell.input('file_path')\n",
    "\n",
    "        # Instantiate morphology for simulation and\n",
    "        # execute the connect statements and loads the cell into h scope\n",
    "        self.importedcell = h.Import3d_GUI(cell,0)\n",
    "        self.importedcell.instantiate(None) \n",
    "\n",
    "        # Create python lists from the morphology with the different sections: soma, dend, apic and axon\n",
    "        self.somatic = []\n",
    "        self.basal = []\n",
    "        self.apical = []\n",
    "        #self.axonal = [] # for the moment we will forget about the axon\n",
    "        self.all = []\n",
    "        for sec in h.allsec():\n",
    "            #print (sec)\n",
    "            if 'soma' in sec.name():\n",
    "                self.somatic.append(sec)\n",
    "            if 'dend' in sec.name():\n",
    "                self.basal.append(sec)\n",
    "            if 'apic' in sec.name():\n",
    "                self.apical.append(sec)\n",
    "            #if 'axon' in sec.name():\n",
    "            #    self.axonal.append(sec)\n",
    "    \n",
    "    def define_biophysics(self):\n",
    "        \"\"\"\n",
    "        Distributes passive mechanisms and the different types\n",
    "        of ion channels on the soma and dendrites\n",
    "        \"\"\"\n",
    "        # Define passive properties\n",
    "        # You can try to change the passice properties and see what happens\n",
    "        for sec in h.allsec():\n",
    "            sec.Ra = 100\n",
    "            sec.cm = 1\n",
    "            sec.insert(\"pas\")\n",
    "            for seg in sec:\n",
    "                seg.pas.g = 0.00003\n",
    "                seg.pas.e = -75\n",
    "                \n",
    "        # Define active properties for soma and dendrites (basal and apical)\n",
    "        for sec in self.somatic:\n",
    "            sec.insert('NaTs2_t')\n",
    "            for seg in sec:\n",
    "                seg.gNaTs2_tbar_NaTs2_t = 0.25 \n",
    "            sec.insert('SK_E2')\n",
    "            for seg in sec:\n",
    "                seg.gSK_E2bar_SK_E2 = 0.01\n",
    "            sec.insert('SKv3_1') \n",
    "            for seg in sec:\n",
    "                seg.gSKv3_1bar_SKv3_1 = 0.1\n",
    "          \n",
    "        for sec in self.apical:\n",
    "            sec.insert('NaTs2_t')\n",
    "            for seg in sec:\n",
    "                seg.gNaTs2_tbar_NaTs2_t = 0.25 \n",
    "            sec.insert('SK_E2')\n",
    "            for seg in sec:\n",
    "                seg.gSK_E2bar_SK_E2 = 0.01\n",
    "            sec.insert('SKv3_1') \n",
    "            for seg in sec:\n",
    "                seg.gSKv3_1bar_SKv3_1 = 0.1\n",
    "        \n",
    "        for sec in self.basal:\n",
    "            sec.insert('NaTs2_t')\n",
    "            for seg in sec:\n",
    "                seg.gNaTs2_tbar_NaTs2_t = 0.25 \n",
    "            sec.insert('SK_E2')\n",
    "            for seg in sec:\n",
    "                seg.gSK_E2bar_SK_E2 = 0.01\n",
    "            sec.insert('SKv3_1') \n",
    "            for seg in sec:\n",
    "                seg.gSKv3_1bar_SKv3_1 = 0.1"
   ]
  },
  {
   "cell_type": "code",
   "execution_count": null,
   "metadata": {},
   "outputs": [],
   "source": [
    "Cell01 = NEURON(file_path = \"group5/cell1_g5.asc\")"
   ]
  },
  {
   "cell_type": "code",
   "execution_count": null,
   "metadata": {},
   "outputs": [],
   "source": [
    "Cell01.somatic[0].psection()"
   ]
  },
  {
   "cell_type": "markdown",
   "metadata": {},
   "source": [
    "#### Subthreshold activity"
   ]
  },
  {
   "cell_type": "code",
   "execution_count": null,
   "metadata": {},
   "outputs": [],
   "source": [
    "def stimulation(cell, stim_ampl)\n",
    "    # Define plots\n",
    "    fig1, ax1 = plt.subplots(figsize=(15,3))\n",
    "    ax1.set(xlabel = 't (ms)', ylabel = 'V (mV)')\n",
    "\n",
    "    fig2, ax2 = plt.subplots(figsize=(15,3))\n",
    "    ax2.set(xlabel = 't (ms)', ylabel = 'I (nA)')\n",
    "\n",
    "    # Stimulation\n",
    "    for sa in stim_ampl:  \n",
    "        # Place a stimulation electrode in the middle of the soma\n",
    "        stim = h.IClamp(cell.somatic[0](0.5))         \n",
    "        stim.delay = 100   # stim delay (ms)\n",
    "        stim.dur = 300     # stim duration (ms)\n",
    "        stim.amp = sa    # stim amplitude (nA)    \n",
    "        # Initialize NEURON vectors to record time, voltage and current\n",
    "        # time vector\n",
    "        rec_t = h.Vector()\n",
    "        rec_t.record(h._ref_t)\n",
    "        # membrame potential vector\n",
    "        rec_v_soma = h.Vector()\n",
    "        rec_v_soma.record(cell.somatic[0](0.5)._ref_v)\n",
    "        # current\n",
    "        rec_i = h.Vector()\n",
    "        rec_i.record(stim._ref_i)\n",
    "\n",
    "        # Initialize and run a simulation\n",
    "        h.load_file('stdrun.hoc')\n",
    "        h.finitialize(-65)\n",
    "        h.continuerun(500)\n",
    "\n",
    "        ax1.plot(rec_t, rec_v_soma)\n",
    "        ax2.plot(rec_t, rec_i)"
   ]
  },
  {
   "cell_type": "code",
   "execution_count": null,
   "metadata": {},
   "outputs": [],
   "source": [
    "# Inject current steps into the soma\n",
    "stim_sub = [- 0.05, - 0.01, 0.1]\n",
    "stimulation(Cell01, stim_sub)"
   ]
  },
  {
   "cell_type": "markdown",
   "metadata": {},
   "source": [
    "#### Suprathreshold activity"
   ]
  },
  {
   "cell_type": "code",
   "execution_count": null,
   "metadata": {},
   "outputs": [],
   "source": [
    "# Inject current steps into the soma\n",
    "stim_sup = [0.01, 0.5, 1.0]\n",
    "stimulation(Cell01, stim_sup)"
   ]
  },
  {
   "cell_type": "markdown",
   "metadata": {},
   "source": [
    "# <font color= 'red'>Ex1:</font>. Analysing real single cell voltage traces from patch-clamp experiments\n",
    "\n",
    "<font size='3'>Find the voltage base, firing frequency, spike count and after-hiperpolarization depth (AHP-depth) from the recordings that you can find in your folder group (.dat files). Extract the asked features from the one or several stimulation protocols that you think you can extract the features from.\n",
    "\n",
    "<font size='3'>You can compute it as you wish, using eFEL, scipy.signal  or creating your own functions. <font color= 'red'>[1.5 pts]\n",
    "\n",
    "#### Traces description\n",
    "\n",
    "* The files are named with: stimuli type (e.g. \"APWaveform\", \"FirePattern\", \"IV\"). \n",
    "* Sweep (repetition) number: (e.g. \"APWaveform_46-51\"), of increasing/decreasing amplitudes.\n",
    "* Note that we have pairs of recordings with the same trace number (e.g. \"exp_APWaveform_ch7_51.dat\" and \"exp_APWaveform_ch6_51.dat\"). One of them contains the current stimulus (in this case \"*ch7*\") and the other the voltage response (in this case \"*ch6*\").\n",
    "    \n"
   ]
  },
  {
   "cell_type": "code",
   "execution_count": null,
   "metadata": {},
   "outputs": [],
   "source": []
  },
  {
   "cell_type": "markdown",
   "metadata": {},
   "source": [
    "# <font color= 'red'>Ex2:</font> Combine Ex 1 and Ex 2\n",
    "\n",
    "<font size='3'> Now let's do some electrophysiological analysis on both cells from your group folder that you have used in exercise 1. Examine your plots for the two protocols you have defined and select 2 or 3 eFeatures to help you identify differences between your two cells. Would you be able to classify the cells based on these eFeatures ? Explain your choice of features and your observations. <font color= 'red'>[2.5 pts]    \n",
    " "
   ]
  },
  {
   "cell_type": "code",
   "execution_count": null,
   "metadata": {},
   "outputs": [],
   "source": []
  },
  {
   "cell_type": "markdown",
   "metadata": {},
   "source": [
    "# <font color= 'red'>Ex3:</font> Genetic Algorith (Optimisation)\n",
    "\n",
    "<font size='3'>Change the GA code in such a way that instead of the Spikecount feature, we search for a solution with AP amplitude of 96 for stim_amp = 0.5 nA and AP amplitdue of 85 for stim_amp = 0.05 nA.\n",
    "    \n",
    "<font size='3'>As you can see the optimisation algoithm explained in the tutorial is very simple and gives a lot of possible solutions. Explain and demonstrate how can you modify the GA optimisation to better contrain the returned solution. <font color= 'red'>[2 pts]\n",
    "    "
   ]
  },
  {
   "cell_type": "code",
   "execution_count": null,
   "metadata": {},
   "outputs": [],
   "source": []
  }
 ],
 "metadata": {
  "kernelspec": {
   "display_name": "Python 3 (ipykernel)",
   "language": "python",
   "name": "python3"
  },
  "language_info": {
   "codemirror_mode": {
    "name": "ipython",
    "version": 3
   },
   "file_extension": ".py",
   "mimetype": "text/x-python",
   "name": "python",
   "nbconvert_exporter": "python",
   "pygments_lexer": "ipython3",
   "version": "3.8.11"
  }
 },
 "nbformat": 4,
 "nbformat_minor": 4
}
