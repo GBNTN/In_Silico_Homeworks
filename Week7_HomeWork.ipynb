{
 "cells": [
  {
   "cell_type": "markdown",
   "metadata": {},
   "source": [
    "<center><font size = \"10\"> Week 7 - Connections <center>\n",
    "<center><font size = \"8\">Home work<center>"
   ]
  },
  {
   "cell_type": "markdown",
   "metadata": {},
   "source": [
    "<font size = \"3\">Please, write your group number and the names and surnames of the group members here\n",
    "<br>Group number: 5\n",
    "<br>Group member1: Camil Hamdane\n",
    "<br>Group member2: Martim Simoes\n",
    "<br>Group member3: Nathan Girard\n",
    "    \n",
    "        \n",
    "__IMPORTANT:__<font size = \"3\"> Exercises in <font color='red'>red</font> are mandatory assignements to be delivered by next Monday before 23:59.\n",
    "\n",
    "<font size = \"3\">For this home work please use the new set of __FIVE__ good morpholgy files corresponding to your group number. "
   ]
  },
  {
   "cell_type": "markdown",
   "metadata": {},
   "source": [
    "# Optional: Connect all-to-all with random weights.\n",
    "\n",
    "\n",
    "<font size='3'>Connect your five cells all to all (unidirectionally) with random weights, as it is done in tutorial 01 of this week, and display the connectivity matrix with the weights."
   ]
  },
  {
   "cell_type": "code",
   "execution_count": 1,
   "metadata": {},
   "outputs": [
    {
     "name": "stderr",
     "output_type": "stream",
     "text": [
      "Warning: no DISPLAY environment variable.\n",
      "--No graphics will be displayed.\n"
     ]
    }
   ],
   "source": [
    "# Load usefull packages\n",
    "%matplotlib inline\n",
    "\n",
    "from neuron import h, gui\n",
    "import matplotlib.pyplot as plt\n",
    "import numpy as np\n",
    "import math as m"
   ]
  },
  {
   "cell_type": "code",
   "execution_count": 2,
   "metadata": {},
   "outputs": [],
   "source": [
    "class Cell:\n",
    "    def __init__(self, filename, name, cell_type):\n",
    "        self.name = name\n",
    "        self.type = cell_type\n",
    "        self.synapses = []\n",
    "        self.build_morphology(filename)\n",
    "        self.biophysics()\n",
    "\n",
    "    def build_morphology(self, filename):\n",
    "        h.load_file(\"import3d.hoc\")\n",
    "        h.load_file(\"stdlib.hoc\")\n",
    "        # morph_reader = h.Import3d_Neurolucida3()\n",
    "        morph_reader = h.Import3d_SWC_read()\n",
    "        morph_reader.input(filename)\n",
    "        i3d = h.Import3d_GUI(morph_reader, 0)\n",
    "        i3d.instantiate(self)\n",
    "\n",
    "    def biophysics(self):\n",
    "        for sec in h.allsec():\n",
    "            sec.Ra = 100  # Axial resistance in Ohm * cm\n",
    "            sec.cm = 1  # Membrane capacitance in micro Farads / cm^2\n",
    "            sec.insert(\"pas\")\n",
    "            for seg in sec:\n",
    "                seg.pas.g = 0.00003\n",
    "                seg.pas.e = -75\n",
    "\n",
    "        # Insert passive current in the dendrite\n",
    "        for sec in self.soma:\n",
    "            sec.insert(\"hh\")\n",
    "            for seg in sec:\n",
    "                seg.hh.gnabar = 0.12  # Sodium conductance in S/cm2\n",
    "                seg.hh.gkbar = 0.036  # Potassium conductance in S/cm2\n",
    "\n",
    "        if hasattr(self, \"apic\"):\n",
    "            for sec in self.apic:\n",
    "                sec.insert(\"hh\")\n",
    "                for seg in sec:\n",
    "                    seg.hh.gnabar = 0.12  # Sodium conductance in S/cm2\n",
    "                    seg.hh.gkbar = 0.036  # Potassium conductance in S/cm2\n",
    "\n",
    "        for sec in self.dend:\n",
    "            sec.insert(\"hh\")\n",
    "            for seg in sec:\n",
    "                seg.hh.gnabar = 0.12  # Sodium conductance in S/cm2\n",
    "                seg.hh.gkbar = 0.036  # Potassium conductance in S/cm2\n",
    "\n",
    "        for sec in self.axon:\n",
    "            sec.insert(\"hh\")\n",
    "            for seg in sec:\n",
    "                seg.hh.gnabar = 0.12  # Sodium conductance in S/cm2\n",
    "                seg.hh.gkbar = 0.036  # Potassium conductance in S/cm2"
   ]
  },
  {
   "cell_type": "code",
   "execution_count": 3,
   "metadata": {},
   "outputs": [],
   "source": [
    "# connect two cells with an exponential synapse at given locations\n",
    "# returns the netcon\n",
    "def connect(\n",
    "    source,\n",
    "    target,\n",
    "    weight=None,\n",
    "    delay=5,\n",
    "    source_sec=None,\n",
    "    source_neurite=\"axon\",\n",
    "    target_sec=None,\n",
    "    target_neurite=\"dend\",\n",
    "):\n",
    "    rng = np.random.default_rng()\n",
    "\n",
    "    if weight is None:\n",
    "        weight = rng.uniform()  # random weight\n",
    "\n",
    "    target_neurite_ = getattr(target, target_neurite)\n",
    "    if target_sec is None:\n",
    "        target_sec = rng.integers(0, len(target_neurite_))  # random dendritic section\n",
    "\n",
    "    source_neurite_ = getattr(source, source_neurite)\n",
    "    if source_sec is None:\n",
    "        source_sec = rng.integers(0, len(source_neurite_))  # random axonal section\n",
    "\n",
    "    target_syn = h.ExpSyn(target_neurite_[target_sec](0.5))\n",
    "    target.synapses.append(target_syn)  # store synapse\n",
    "\n",
    "    netcon = h.NetCon(\n",
    "        source_neurite_[source_sec](0.5)._ref_v,\n",
    "        target_syn,\n",
    "        sec=source_neurite_[source_sec],\n",
    "    )\n",
    "    netcon.weight[0] = weight\n",
    "    netcon.delay = delay\n",
    "\n",
    "    print(\n",
    "        \"Connected cells %s -> %s with weight %g and delay %g, from %s[%d] to %s[%d]\"\n",
    "        % (\n",
    "            source.name,\n",
    "            target.name,\n",
    "            weight,\n",
    "            delay,\n",
    "            source_neurite,\n",
    "            source_sec,\n",
    "            target_neurite,\n",
    "            target_sec,\n",
    "        )\n",
    "    )\n",
    "    return netcon"
   ]
  },
  {
   "cell_type": "markdown",
   "metadata": {},
   "source": [
    "# <font color= 'red'>Ex 1:</font> Connect your cells considering connection probability\n",
    "\n",
    "<font size='3'>Connect your five cells as it is done in tutorial 02, considering the following connection probabilities between cell types:\n",
    "<br> PC - PC: 60 %\n",
    "<br> PC - Inh: 25 %\n",
    "<br> Inh - PC: 39 %\n",
    "<br> Inh - Inh: 37 %\n",
    "\n",
    "<font size='3'> Show the results on a connection probability matrix and the connection weight matrix between the five cells. \n",
    "\n",
    "<font size='3'><font color= 'red'>[1.5 pt]"
   ]
  },
  {
   "cell_type": "code",
   "execution_count": 4,
   "metadata": {},
   "outputs": [],
   "source": [
    "DATA_PATH = \"Group5/\"\n",
    "EXT = \".swc\"\n",
    "Pyr_ = [Cell(DATA_PATH + \"Pyr_0\" + str(i) + EXT, \"Pyr\"+ str(i), \"Pyr\") for i in np.arange(1,4)]\n",
    "Int_ = [Cell(DATA_PATH + \"Int_0\" + str(i) + EXT, \"Int\"+ str(i), \"Int\") for i in np.arange(1,3)]\n",
    "\n",
    "cells = Pyr_ + Int_"
   ]
  },
  {
   "cell_type": "code",
   "execution_count": 5,
   "metadata": {},
   "outputs": [],
   "source": [
    "# specify connection probabilites between cell types\n",
    "conn_prob_matrix = np.zeros((2, 2))\n",
    "conn_prob_matrix[0, 0] = 0.6  # PC to PC\n",
    "conn_prob_matrix[0, 1] = 0.25  # PC to Inh\n",
    "conn_prob_matrix[1, 0] = 0.39  # Inh to PC\n",
    "conn_prob_matrix[1, 1] = 0.37  # Inh to Inh"
   ]
  },
  {
   "cell_type": "code",
   "execution_count": 6,
   "metadata": {},
   "outputs": [
    {
     "name": "stdout",
     "output_type": "stream",
     "text": [
      "Connected cells Pyr1 -> Int1 with weight 0.218116 and delay 5, from axon[72] to dend[21]\n",
      "Connected cells Int1 -> Pyr1 with weight 0.0305124 and delay 5, from axon[38] to soma[0]\n",
      "Connected cells Int2 -> Pyr1 with weight 0.718837 and delay 5, from axon[88] to soma[0]\n",
      "Connected cells Int2 -> Pyr2 with weight 0.0242698 and delay 5, from axon[57] to soma[0]\n",
      "Connected cells Int2 -> Pyr3 with weight 0.394629 and delay 5, from axon[215] to soma[0]\n",
      "Connected cells Int1 -> Int2 with weight 0.29549 and delay 5, from axon[88] to soma[0]\n",
      "Connected cells Int2 -> Int1 with weight 0.722459 and delay 5, from axon[87] to soma[0]\n"
     ]
    }
   ],
   "source": [
    "netcons = []  # store all netcons\n",
    "\n",
    "rng = np.random.default_rng()\n",
    "\n",
    "# PC - PC:\n",
    "if rng.random() < conn_prob_matrix[0, 0]:\n",
    "    nc = connect(Pyr_[0], Pyr_[1])\n",
    "    netcons.append(nc)\n",
    "if rng.random() < conn_prob_matrix[0, 0]:\n",
    "    nc = connect(Pyr_[0], Pyr_[2])\n",
    "    netcons.append(nc)\n",
    "if rng.random() < conn_prob_matrix[0, 0]:\n",
    "    nc = connect(Pyr_[1], Pyr_[2])\n",
    "    netcons.append(nc)\n",
    "    \n",
    "# PC - Inh:\n",
    "if rng.random() < conn_prob_matrix[0, 1]:\n",
    "    nc = connect(Pyr_[0], Int_[0])\n",
    "    netcons.append(nc)\n",
    "if rng.random() < conn_prob_matrix[0, 1]:\n",
    "    nc = connect(Pyr_[0], Int_[1])\n",
    "    netcons.append(nc)\n",
    "if rng.random() < conn_prob_matrix[0, 1]:\n",
    "    nc = connect(Pyr_[1], Int_[0])\n",
    "    netcons.append(nc)\n",
    "if rng.random() < conn_prob_matrix[0, 1]:\n",
    "    nc = connect(Pyr_[1], Int_[1])\n",
    "    netcons.append(nc)\n",
    "if rng.random() < conn_prob_matrix[0, 1]:\n",
    "    nc = connect(Pyr_[2], Int_[0])\n",
    "    netcons.append(nc)\n",
    "if rng.random() < conn_prob_matrix[0, 1]:\n",
    "    nc = connect(Pyr_[2], Int_[1])\n",
    "    netcons.append(nc)\n",
    "    \n",
    "# Inh - PC:\n",
    "if rng.random() < conn_prob_matrix[1, 0]:\n",
    "    nc = connect(Int_[0], Pyr_[0], target_neurite=\"soma\")\n",
    "    netcons.append(nc)\n",
    "if rng.random() < conn_prob_matrix[1, 0]:\n",
    "    nc = connect(Int_[0], Pyr_[1], target_neurite=\"soma\")\n",
    "    netcons.append(nc)\n",
    "if rng.random() < conn_prob_matrix[1, 0]:\n",
    "    nc = connect(Int_[0], Pyr_[2], target_neurite=\"soma\")\n",
    "    netcons.append(nc)\n",
    "if rng.random() < conn_prob_matrix[1, 0]:\n",
    "    nc = connect(Int_[1], Pyr_[0], target_neurite=\"soma\")\n",
    "    netcons.append(nc)\n",
    "if rng.random() < conn_prob_matrix[1, 0]:\n",
    "    nc = connect(Int_[1], Pyr_[1], target_neurite=\"soma\")\n",
    "    netcons.append(nc)\n",
    "if rng.random() < conn_prob_matrix[1, 0]:\n",
    "    nc = connect(Int_[1], Pyr_[2], target_neurite=\"soma\")\n",
    "    netcons.append(nc)\n",
    "    \n",
    "# Inh - Inh:\n",
    "if rng.random() < conn_prob_matrix[1, 1]:\n",
    "    nc = connect(Int_[0], Int_[1], target_neurite=\"soma\")\n",
    "    netcons.append(nc)\n",
    "if rng.random() < conn_prob_matrix[1, 1]:\n",
    "    nc = connect(Int_[1], Int_[0], target_neurite=\"soma\")\n",
    "    netcons.append(nc)"
   ]
  },
  {
   "cell_type": "code",
   "execution_count": 7,
   "metadata": {},
   "outputs": [],
   "source": [
    "stim_cell = Pyr_[1]\n",
    "stim_syn = h.ExpSyn(stim_cell.dend[20](0.5))\n",
    "stim = h.NetStim()  # Make a new stimulator\n",
    "ncstim = h.NetCon(stim, stim_syn)  # Connect stimulator to synapse"
   ]
  },
  {
   "cell_type": "code",
   "execution_count": 14,
   "metadata": {},
   "outputs": [
    {
     "data": {
      "image/png": "[encoded data removed]",
      "text/plain": [
       "<Figure size 432x288 with 1 Axes>"
      ]
     },
     "metadata": {
      "needs_background": "light"
     },
     "output_type": "display_data"
    }
   ],
   "source": [
    "stim.number = 10  # Number of spikes (average)\n",
    "stim.start = 10  # First spike delay [ms]\n",
    "ncstim.delay = 1  # NetCon ms\n",
    "ncstim.weight[0] = 0.8  # NetCon weight\n",
    "\n",
    "recording_cell = Pyr_[0]\n",
    "\n",
    "soma_v = h.Vector().record(recording_cell.soma[0](0.5)._ref_v)\n",
    "dend_v = h.Vector().record(recording_cell.dend[16](0.5)._ref_v)\n",
    "t = h.Vector().record(h._ref_t)\n",
    "\n",
    "h.finitialize(-65)\n",
    "h.continuerun(100)\n",
    "plt.plot(t, soma_v, label=\"soma(0.5)\")\n",
    "plt.plot(t, dend_v, label=\"dend(0.5)\")\n",
    "plt.legend()\n",
    "plt.show()"
   ]
  },
  {
   "cell_type": "code",
   "execution_count": 26,
   "metadata": {},
   "outputs": [
    {
     "data": {
      "text/plain": [
       "<matplotlib.colorbar.Colorbar at 0x7fbbcd8bd670>"
      ]
     },
     "execution_count": 26,
     "metadata": {},
     "output_type": "execute_result"
    },
    {
     "data": {
      "image/png": "[encoded data removed]",
      "text/plain": [
       "<Figure size 432x288 with 2 Axes>"
      ]
     },
     "metadata": {
      "needs_background": "light"
     },
     "output_type": "display_data"
    }
   ],
   "source": [
    "plt.imshow(conn_prob_matrix, cmap=\"viridis\", vmin=0.0, vmax=1.0)\n",
    "plt.title(\"Heatmap of the connection probabilities between cells types\")\n",
    "plt.xlabel(\"PC\" + \" \".ljust(30) + \"Inh\")\n",
    "plt.ylabel(\"PC\" + \" \".ljust(30) + \"Inh\")\n",
    "plt.colorbar()"
   ]
  },
  {
   "cell_type": "markdown",
   "metadata": {},
   "source": [
    "# <font color= 'red'>Ex 2:</font>  Distribution of contacts: Convergence Matrix\n",
    "\n",
    "<font size='3'>\n",
    "\n",
    "Considering the following mean contact points between cell types: \n",
    "- PC_axon - PC_basal: 6\n",
    "- PC_axon - PC_apical: 1\n",
    "- PC_axon - Inh_basal: 2\n",
    "- Inh_axon - PC_soma: 4\n",
    "- Inh_axon - PC_basal: 3\n",
    "- Inh_axon - Inh_soma: 5\n",
    "- Inh_axon - Inh_basal: 1\n",
    "\n",
    "\n",
    "Following and expanding the implementation from Tutorial 3: connect the neurons by selecting the specific contact points. The connections should follow a __normal distribution__ with the mean value per connection specified by the above values. \n",
    "Show the results on a __convergence__ matrix (how many contacts each of the cells receives from the others). \n",
    "\n",
    "Stimulate the connected neurons and briefly interpret the relationship between the number of connections and your simulation results.\n",
    "\n",
    "<font color= 'red'><font size='3'>[2 pts] "
   ]
  },
  {
   "cell_type": "code",
   "execution_count": null,
   "metadata": {},
   "outputs": [],
   "source": []
  },
  {
   "cell_type": "markdown",
   "metadata": {},
   "source": [
    "# <font color='red'>Ex 3:</font> Real Connectivity Rules\n",
    "\n",
    "<font size='3'>\n",
    "    \n",
    "Read the articles uploaded with this homework (Markram_1997.pdf and Gupta_2000.pdf). \n",
    "\n",
    "Imagine that you have to build a network with your five cells (3 pyramidals and 2 GABAergic interneurons) from the rat somatosensory cortex. Extract from the papers the data that you would need to connect your cells (connectivity rules). \n",
    "Enumerate the data chosen to connect your cells. Make sure to read the papers thoroughly and extract all of the connectivity information.  \n",
    "    \n",
    "Using and modifying (if needed) the code from the tutorials, connect your five cells in a more biological way using the connectivity rules found in the papers. Visualize the results of the resulting connectivity.    \n",
    "    \n",
    "    \n",
    "<font size='3'><font color= 'red'>[2.5 pts]"
   ]
  },
  {
   "cell_type": "code",
   "execution_count": null,
   "metadata": {},
   "outputs": [],
   "source": []
  }
 ],
 "metadata": {
  "kernelspec": {
   "display_name": "Python 3 (ipykernel)",
   "language": "python",
   "name": "python3"
  },
  "language_info": {
   "codemirror_mode": {
    "name": "ipython",
    "version": 3
   },
   "file_extension": ".py",
   "mimetype": "text/x-python",
   "name": "python",
   "nbconvert_exporter": "python",
   "pygments_lexer": "ipython3",
   "version": "3.8.11"
  }
 },
 "nbformat": 4,
 "nbformat_minor": 4
}
